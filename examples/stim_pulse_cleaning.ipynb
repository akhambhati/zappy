{
 "cells": [
  {
   "cell_type": "markdown",
   "metadata": {},
   "source": [
    "# Example Usage for Cleaning Stimulation Pulses with Zappy"
   ]
  },
  {
   "cell_type": "markdown",
   "metadata": {},
   "source": [
    "# Main Imports"
   ]
  },
  {
   "cell_type": "code",
   "execution_count": null,
   "metadata": {
    "ExecuteTime": {
     "end_time": "2020-02-12T18:17:45.844689Z",
     "start_time": "2020-02-12T18:17:44.809888Z"
    }
   },
   "outputs": [],
   "source": [
    "import numpy as np\n",
    "import matplotlib.pyplot as plt\n",
    "from scipy.stats import kurtosis\n",
    "\n",
    "import zappy"
   ]
  },
  {
   "cell_type": "markdown",
   "metadata": {},
   "source": [
    "# Load Data"
   ]
  },
  {
   "cell_type": "code",
   "execution_count": null,
   "metadata": {
    "ExecuteTime": {
     "end_time": "2020-02-12T18:17:52.194858Z",
     "start_time": "2020-02-12T18:17:46.490379Z"
    }
   },
   "outputs": [],
   "source": [
    "def get_stim_data():\n",
    "    from tqdm import tqdm\n",
    "    import wget\n",
    "    import zipfile\n",
    "    import os\n",
    "    \n",
    "    url = \"https://www.dropbox.com/sh/yqf36798y1yz9e8/AACcqZdu09Chlvkr1NOFFsiQa?dl=1\"\n",
    "    out = './stim_24k.zip'\n",
    "    fname = './data/EC206_B18_stim_example.npz'\n",
    "    if not os.path.exists(fname):\n",
    "        if not os.path.exists(out):\n",
    "            print('Downloading sample data...')\n",
    "            wget.download(url, out=out, bar=wget.bar_thermometer)\n",
    "        \n",
    "        print('Extracting sample data...')\n",
    "        with zipfile.ZipFile(out, 'r') as zipObj:\n",
    "            zipObj.extractall('./data')\n",
    "            \n",
    "        os.remove(out)\n",
    "            \n",
    "    npz = zappy.io.sigdict.load_data_dict(fname)\n",
    "    print('Loaded sample data.')    \n",
    "    \n",
    "    return npz\n",
    "\n",
    "# Download / load-in sample data\n",
    "npz = get_stim_data()\n",
    "\n",
    "# Get data sizes\n",
    "n_time = npz['stim'].shape[0]\n",
    "n_stim = npz['stim'].shape[1]\n",
    "tstamp = np.arange(0, n_time / npz['Fs'], 1/npz['Fs'])"
   ]
  },
  {
   "cell_type": "markdown",
   "metadata": {},
   "source": [
    "# Visualize Stimulation Pulses "
   ]
  },
  {
   "cell_type": "markdown",
   "metadata": {},
   "source": [
    "## Full Stim Sequence"
   ]
  },
  {
   "cell_type": "code",
   "execution_count": null,
   "metadata": {
    "ExecuteTime": {
     "end_time": "2020-02-12T18:18:00.764485Z",
     "start_time": "2020-02-12T18:17:53.645672Z"
    }
   },
   "outputs": [],
   "source": [
    "plt.figure(figsize=(24,12))\n",
    "for i in range(n_stim):\n",
    "    ax = plt.subplot(n_stim, 1, i+1)\n",
    "    ax.plot(tstamp, npz['stim'][:,i])\n",
    "    ax.set_ylim([-2500, 2500])\n",
    "    \n",
    "    if i < (n_stim-1):\n",
    "        ax.set_xticks([])\n",
    "        ax.set_xticklabels([])\n",
    "    else:\n",
    "        ax.set_xlabel('Time (sec)')\n",
    "    ax.set_ylabel('Stim Current (uA)')"
   ]
  },
  {
   "cell_type": "markdown",
   "metadata": {},
   "source": [
    "## Zoomed-In Plot"
   ]
  },
  {
   "cell_type": "code",
   "execution_count": null,
   "metadata": {
    "ExecuteTime": {
     "end_time": "2020-01-29T18:33:40.359345Z",
     "start_time": "2020-01-29T18:33:36.506857Z"
    }
   },
   "outputs": [],
   "source": [
    "plt.figure(figsize=(24,12))\n",
    "for i in range(n_stim):\n",
    "    ax = plt.subplot(n_stim, 1, i+1)\n",
    "    ax.plot(tstamp, npz['stim'][:,i])\n",
    "    ax.set_ylim([-2500, 2500])\n",
    "    \n",
    "    if i < (n_stim-1):\n",
    "        ax.set_xticks([])\n",
    "        ax.set_xticklabels([])\n",
    "    else:\n",
    "        ax.set_xlabel('Time (sec)')\n",
    "    ax.set_ylabel('Stim Current (uA)')\n",
    "    \n",
    "    ax.set_xlim([45, 52])"
   ]
  },
  {
   "cell_type": "markdown",
   "metadata": {},
   "source": [
    "# Run Zappy"
   ]
  },
  {
   "cell_type": "code",
   "execution_count": null,
   "metadata": {
    "ExecuteTime": {
     "end_time": "2020-02-12T18:24:40.688025Z",
     "start_time": "2020-02-12T18:24:29.440287Z"
    },
    "scrolled": false
   },
   "outputs": [],
   "source": [
    "base_sec = 50\n",
    "sig = npz['signal'][:, [20]][tstamp >= base_sec]\n",
    "sig_sham = npz['signal'][:, [20]][tstamp < base_sec]\n",
    "sseq = npz['stim'][tstamp >= 50]*1e-6\n",
    "\n",
    "signal_cleaned = zappy.elstim.artifact.ica_pulse_reconstruction(\n",
    "                            signal=sig.copy(),\n",
    "                            stim_seq=sseq.copy(),\n",
    "                            inter_train_len=npz['Fs']*10.0,\n",
    "                            padding=[40, 40],\n",
    "                            #ic_summary_stat_func=,\n",
    "                            ic_stat_pct=[2.5, 97.5],\n",
    "                            signal_sham=sig_sham.copy(),\n",
    "                            plot=True)"
   ]
  },
  {
   "cell_type": "code",
   "execution_count": null,
   "metadata": {
    "ExecuteTime": {
     "end_time": "2020-02-12T18:25:43.574034Z",
     "start_time": "2020-02-12T18:25:41.787110Z"
    }
   },
   "outputs": [],
   "source": [
    "plt.figure(figsize=(12,6))\n",
    "plt.plot(tstamp[tstamp >= base_sec], sig[:, 0])\n",
    "plt.plot(tstamp[tstamp >= base_sec], signal_cleaned[:, 0])\n",
    "plt.xlim([110.2, 110.4])\n",
    "plt.show()"
   ]
  },
  {
   "cell_type": "code",
   "execution_count": null,
   "metadata": {
    "ExecuteTime": {
     "end_time": "2020-02-12T18:26:17.683311Z",
     "start_time": "2020-02-12T18:26:15.709879Z"
    }
   },
   "outputs": [],
   "source": [
    "from scipy import signal\n",
    "\n",
    "f, Pxx_den = signal.welch(sig[:, 0], fs=npz['Fs'], nperseg=2**15)\n",
    "plt.semilogy(f, np.transpose(Pxx_den))\n",
    "f, Pxx_den = signal.welch(signal_cleaned[:,0], fs=npz['Fs'], nperseg=2**15)\n",
    "plt.semilogy(f, np.transpose(Pxx_den))\n",
    "plt.xlabel('frequency [Hz]')\n",
    "plt.ylabel('PSD [V**2/Hz]')\n",
    "plt.xlim([0, 512])\n",
    "plt.ylim([10**(-14), 10**(-7)])\n",
    "plt.tight_layout()\n",
    "plt.legend(['Original', 'Clean'])\n",
    "plt.show()\n",
    "\n",
    "f, Pxx_den = signal.welch(sig[:, 0], fs=npz['Fs'], nperseg=2**15)\n",
    "plt.semilogy(f, np.transpose(Pxx_den))\n",
    "f, Pxx_den = signal.welch(signal_cleaned[:,0], fs=npz['Fs'], nperseg=2**15)\n",
    "plt.semilogy(f, np.transpose(Pxx_den))\n",
    "plt.xlabel('frequency [Hz]')\n",
    "plt.ylabel('PSD [V**2/Hz]')\n",
    "plt.xlim([0, 60])\n",
    "plt.ylim([10**(-10), 10**(-7)])\n",
    "plt.tight_layout()\n",
    "plt.legend(['Original', 'Clean'])\n",
    "plt.show()"
   ]
  },
  {
   "cell_type": "code",
   "execution_count": null,
   "metadata": {},
   "outputs": [],
   "source": []
  }
 ],
 "metadata": {
  "hide_input": false,
  "kernelspec": {
   "display_name": "Hoth",
   "language": "python",
   "name": "hoth"
  },
  "language_info": {
   "codemirror_mode": {
    "name": "ipython",
    "version": 3
   },
   "file_extension": ".py",
   "mimetype": "text/x-python",
   "name": "python",
   "nbconvert_exporter": "python",
   "pygments_lexer": "ipython3",
   "version": "3.7.3"
  },
  "toc": {
   "base_numbering": 1,
   "nav_menu": {},
   "number_sections": true,
   "sideBar": true,
   "skip_h1_title": false,
   "title_cell": "Table of Contents",
   "title_sidebar": "Contents",
   "toc_cell": false,
   "toc_position": {},
   "toc_section_display": true,
   "toc_window_display": true
  },
  "varInspector": {
   "cols": {
    "lenName": 16,
    "lenType": 16,
    "lenVar": 40
   },
   "kernels_config": {
    "python": {
     "delete_cmd_postfix": "",
     "delete_cmd_prefix": "del ",
     "library": "var_list.py",
     "varRefreshCmd": "print(var_dic_list())"
    },
    "r": {
     "delete_cmd_postfix": ") ",
     "delete_cmd_prefix": "rm(",
     "library": "var_list.r",
     "varRefreshCmd": "cat(var_dic_list()) "
    }
   },
   "types_to_exclude": [
    "module",
    "function",
    "builtin_function_or_method",
    "instance",
    "_Feature"
   ],
   "window_display": false
  }
 },
 "nbformat": 4,
 "nbformat_minor": 2
}
