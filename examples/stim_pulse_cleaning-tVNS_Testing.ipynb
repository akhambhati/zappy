{
 "cells": [
  {
   "cell_type": "markdown",
   "metadata": {},
   "source": [
    "# Example Usage for Cleaning Stimulation Pulses with Zappy"
   ]
  },
  {
   "cell_type": "markdown",
   "metadata": {},
   "source": [
    "# Main Imports"
   ]
  },
  {
   "cell_type": "code",
   "execution_count": 1,
   "metadata": {
    "ExecuteTime": {
     "end_time": "2020-05-13T18:03:06.227362Z",
     "start_time": "2020-05-13T18:03:05.661467Z"
    }
   },
   "outputs": [],
   "source": [
    "import numpy as np\n",
    "import matplotlib.pyplot as plt\n",
    "from scipy.stats import kurtosis\n",
    "import scipy.stats as sp_stats\n",
    "\n",
    "import zappy"
   ]
  },
  {
   "cell_type": "markdown",
   "metadata": {},
   "source": [
    "# Load Data"
   ]
  },
  {
   "cell_type": "code",
   "execution_count": null,
   "metadata": {
    "ExecuteTime": {
     "end_time": "2020-04-01T04:05:19.694125Z",
     "start_time": "2020-04-01T04:05:13.966243Z"
    }
   },
   "outputs": [],
   "source": [
    "def get_stim_data():\n",
    "    from tqdm import tqdm\n",
    "    import wget\n",
    "    import zipfile\n",
    "    import os\n",
    "    \n",
    "    url = \"https://www.dropbox.com/sh/yqf36798y1yz9e8/AACcqZdu09Chlvkr1NOFFsiQa?dl=1\"\n",
    "    out = './stim_24k.zip'\n",
    "    fname = './data/EC206_B18_stim_example.npz'\n",
    "    if not os.path.exists(fname):\n",
    "        if not os.path.exists(out):\n",
    "            print('Downloading sample data...')\n",
    "            wget.download(url, out=out, bar=wget.bar_thermometer)\n",
    "        \n",
    "        print('Extracting sample data...')\n",
    "        with zipfile.ZipFile(out, 'r') as zipObj:\n",
    "            zipObj.extractall('./data')\n",
    "            \n",
    "        os.remove(out)\n",
    "            \n",
    "    npz = zappy.io.sigdict.load_data_dict(fname)\n",
    "    print('Loaded sample data.')    \n",
    "    \n",
    "    return npz\n",
    "\n",
    "# Download / load-in sample data\n",
    "npz = get_stim_data()\n",
    "\n",
    "# Get data sizes\n",
    "n_time = npz['stim'].shape[0]\n",
    "n_stim = npz['stim'].shape[1]\n",
    "tstamp = np.arange(0, n_time / npz['Fs'], 1/npz['Fs'])"
   ]
  },
  {
   "cell_type": "markdown",
   "metadata": {},
   "source": [
    "# Visualize Stimulation Pulses "
   ]
  },
  {
   "cell_type": "markdown",
   "metadata": {},
   "source": [
    "## Full Stim Sequence"
   ]
  },
  {
   "cell_type": "code",
   "execution_count": null,
   "metadata": {
    "ExecuteTime": {
     "end_time": "2020-04-01T04:05:27.748099Z",
     "start_time": "2020-04-01T04:05:19.704495Z"
    }
   },
   "outputs": [],
   "source": [
    "plt.figure(figsize=(24,12))\n",
    "for i in range(n_stim):\n",
    "    ax = plt.subplot(n_stim, 1, i+1)\n",
    "    ax.plot(tstamp, npz['stim'][:,i])\n",
    "    ax.set_ylim([-2500, 2500])\n",
    "    \n",
    "    if i < (n_stim-1):\n",
    "        ax.set_xticks([])\n",
    "        ax.set_xticklabels([])\n",
    "    else:\n",
    "        ax.set_xlabel('Time (sec)')\n",
    "    ax.set_ylabel('Stim Current (uA)')"
   ]
  },
  {
   "cell_type": "markdown",
   "metadata": {},
   "source": [
    "## Zoomed-In Plot"
   ]
  },
  {
   "cell_type": "code",
   "execution_count": null,
   "metadata": {
    "ExecuteTime": {
     "end_time": "2020-01-29T18:33:40.359345Z",
     "start_time": "2020-01-29T18:33:36.506857Z"
    }
   },
   "outputs": [],
   "source": [
    "plt.figure(figsize=(24,12))\n",
    "for i in range(n_stim):\n",
    "    ax = plt.subplot(n_stim, 1, i+1)\n",
    "    ax.plot(tstamp, npz['stim'][:,i])\n",
    "    ax.set_ylim([-2500, 2500])\n",
    "    \n",
    "    if i < (n_stim-1):\n",
    "        ax.set_xticks([])\n",
    "        ax.set_xticklabels([])\n",
    "    else:\n",
    "        ax.set_xlabel('Time (sec)')\n",
    "    ax.set_ylabel('Stim Current (uA)')\n",
    "    \n",
    "    ax.set_xlim([45, 52])"
   ]
  },
  {
   "cell_type": "code",
   "execution_count": 2,
   "metadata": {
    "ExecuteTime": {
     "end_time": "2020-05-13T18:03:08.618124Z",
     "start_time": "2020-05-13T18:03:08.234421Z"
    }
   },
   "outputs": [],
   "source": [
    "sseq = np.load('/Users/akhambhati/Hoth/Remotes/CORE.VNS_Test.wschuerman/tVNS_30Hz/stim.npy')\n",
    "sig_sham = np.load('/Users/akhambhati/Hoth/Remotes/CORE.VNS_Test.wschuerman/tVNS_30Hz/sig_sham.npy')\n",
    "sig = np.load('/Users/akhambhati/Hoth/Remotes/CORE.VNS_Test.wschuerman/tVNS_30Hz/LFP.npy')\n",
    "\n",
    "Fs = 24000\n",
    "tstamp = np.arange(sig.shape[0]) / Fs"
   ]
  },
  {
   "cell_type": "markdown",
   "metadata": {},
   "source": [
    "# Interpolation-based cleaning"
   ]
  },
  {
   "cell_type": "code",
   "execution_count": 21,
   "metadata": {
    "ExecuteTime": {
     "end_time": "2020-05-13T18:17:58.089646Z",
     "start_time": "2020-05-13T18:17:55.067149Z"
    }
   },
   "outputs": [],
   "source": [
    "### Handle the Dirac formulation\n",
    "# Get the dirac stim representation\n",
    "dirac = zappy.elstim.stim_blank.convert_seq_to_dirac(sseq[:,0]*-1)\n",
    "\n",
    "# Epoch the stim data\n",
    "epoch = zappy.elstim.stim_blank.epoch_stim_on_off(dirac, n_inter_pulse=800)\n",
    "\n",
    "if epoch.any():\n",
    "    # Grab the dirac representation during a stim-ON epoch\n",
    "    on_start = np.flatnonzero(np.diff(epoch) == 1) + 1\n",
    "    on_end = np.flatnonzero(np.diff(epoch) == -1) + 1\n",
    "    dirac_stim_on = dirac[on_start[0]:on_end[0]]\n",
    "\n",
    "    # Iterate over each inter epoch (on_end marks start, on_start marks end)\n",
    "    on_end = np.concatenate(([0], on_end))\n",
    "    on_start = np.concatenate((on_start, [len(epoch)]))\n",
    "    for ep_ii, (ep_start, ep_end) in enumerate(zip(on_end, on_start)):\n",
    "        dirac[ep_start:ep_end] = zappy.elstim.stim_blank.corrupt_stim_sample(\n",
    "            dirac_stim_on, ep_end - ep_start)\n",
    "        \n",
    "# Get the dirac to fit the actual signal, and extend corrupt window\n",
    "blank = zappy.elstim.stim_blank.corrupt_stim_sample(dirac, len(tstamp),\n",
    "                            n_pre_pad=0, n_post_pad=0)        \n",
    "\n",
    "# Apply a linear regression at the hold\n",
    "new_sig = []\n",
    "for sss in sig.T:\n",
    "    new_sig.append(zappy.elstim.stim_blank.revinterp_blank(sss, blank))\n",
    "new_sig = np.array(new_sig).T\n",
    "\n",
    "\n",
    "# Decimate\n",
    "new_sig_ds, Q = zappy.sigproc.filters.decimate(new_sig, fs_old=Fs, fs_new=1500)\n",
    "Fs_new = Fs / Q\n",
    "new_sig_ds, Q = zappy.sigproc.filters.decimate(new_sig_ds, fs_old=Fs_new, fs_new=1500)\n",
    "Fs_new = Fs_new / Q\n",
    "new_sig_ds, Q = zappy.sigproc.filters.decimate(new_sig_ds, fs_old=Fs_new, fs_new=1500)\n",
    "Fs_new = Fs_new / Q\n",
    "\n",
    "# Notch filter\n",
    "# Notch line + harmonics\n",
    "new_sig_ds = zappy.sigproc.filters.notch_line(new_sig_ds.reshape(-1,1), fs=Fs_new, notch_freq=60, bw=2, harm=True)\n",
    "# Notch stim + harmonics\n",
    "new_sig_ds = zappy.sigproc.filters.notch_line(new_sig_ds.reshape(-1,1), fs=Fs_new, notch_freq=30, bw=2, harm=True)\n",
    "\n",
    "# CAR\n",
    "#new_sig_ds = zappy.sigproc.reference.general_reref(new_sig_ds) \n",
    "\n",
    "# downsampled timestamps\n",
    "tstamp_ds = np.arange(new_sig_ds.shape[0]) / Fs_new"
   ]
  },
  {
   "cell_type": "markdown",
   "metadata": {},
   "source": [
    "## Check interpolation"
   ]
  },
  {
   "cell_type": "code",
   "execution_count": 22,
   "metadata": {
    "ExecuteTime": {
     "end_time": "2020-05-13T18:18:05.005896Z",
     "start_time": "2020-05-13T18:17:59.958745Z"
    }
   },
   "outputs": [
    {
     "data": {
      "text/plain": [
       "(-200, 200)"
      ]
     },
     "execution_count": 22,
     "metadata": {},
     "output_type": "execute_result"
    },
    {
     "data": {
      "image/png": "[encoded data removed]",
      "text/plain": [
       "<Figure size 1152x288 with 1 Axes>"
      ]
     },
     "metadata": {
      "needs_background": "light"
     },
     "output_type": "display_data"
    }
   ],
   "source": [
    "plt.figure(figsize=(16,4))\n",
    "#plt.plot(tstamp, sseq*1000)\n",
    "plt.plot(tstamp_ds, new_sig_ds[:,0])\n",
    "plt.plot(tstamp, sig[:,0])\n",
    "plt.plot(tstamp, blank*100)\n",
    "plt.xlim(np.array([12.96, 13.04]))\n",
    "plt.ylim(np.array([-200, 200]))"
   ]
  },
  {
   "cell_type": "markdown",
   "metadata": {},
   "source": [
    "## Spectrogram"
   ]
  },
  {
   "cell_type": "code",
   "execution_count": null,
   "metadata": {
    "ExecuteTime": {
     "end_time": "2020-05-08T22:51:16.983239Z",
     "start_time": "2020-05-08T22:51:10.149747Z"
    }
   },
   "outputs": [],
   "source": [
    "sel_ts = np.flatnonzero((tstamp >= 0) & (tstamp <= 400))\n",
    "\n",
    "plt.figure(figsize=(9,12))\n",
    "ax = plt.subplot(3,1,1)\n",
    "ax.plot(tstamp[sel_ts], sseq[sel_ts, 0])\n",
    "ax.set_xlim([tstamp[sel_ts].min(), tstamp[sel_ts].max()])\n",
    "ax.set_title('Stim Sequence')\n",
    "\n",
    "ax = plt.subplot(3,1,2)\n",
    "spec = ax.specgram(sig[sel_ts, 0], Fs=Fs, NFFT=2**15, noverlap=2**14)\n",
    "ax.set_ylim([0, 200])\n",
    "#ax.set_xlim([400.88-400, 400.9-400])\n",
    "ax.set_title('Original')\n",
    "\n",
    "ax = plt.subplot(3,1,3)\n",
    "spec = ax.specgram(new_sig[sel_ts, 0], Fs=Fs, NFFT=2**15, noverlap=2**14)\n",
    "ax.set_ylim([0, 200])\n",
    "#ax.set_xlim([400.88-400, 400.9-400])\n",
    "ax.set_title('Blank/LInterp')"
   ]
  },
  {
   "cell_type": "code",
   "execution_count": null,
   "metadata": {
    "ExecuteTime": {
     "end_time": "2020-05-08T22:51:23.497383Z",
     "start_time": "2020-05-08T22:51:19.150991Z"
    }
   },
   "outputs": [],
   "source": [
    "from scipy import signal\n",
    "\n",
    "f, Pxx_den = signal.welch(sig[sel_ts, 0], fs=Fs, nperseg=2**15)\n",
    "plt.semilogy(f, np.transpose(Pxx_den))\n",
    "f, Pxx_den = signal.welch(new_sig[sel_ts], fs=Fs, nperseg=2**15)\n",
    "plt.semilogy(f, np.transpose(Pxx_den))\n",
    "plt.xlabel('frequency [Hz]')\n",
    "plt.ylabel('PSD [V**2/Hz]')\n",
    "plt.xlim([0, 200])\n",
    "plt.ylim([10**(-3), 10**(4)])\n",
    "plt.tight_layout()\n",
    "plt.legend(['Original', 'Interp Clean'])\n",
    "plt.show()\n",
    "\n",
    "f, Pxx_den = signal.welch(sig[sel_ts, 0], fs=Fs, nperseg=2**15)\n",
    "plt.semilogy(f, np.transpose(Pxx_den))\n",
    "f, Pxx_den = signal.welch(new_sig[sel_ts], fs=Fs, nperseg=2**15)\n",
    "plt.semilogy(f, np.transpose(Pxx_den))\n",
    "plt.xlabel('frequency [Hz]')\n",
    "plt.ylabel('PSD [V**2/Hz]')\n",
    "plt.xlim([0, 100])\n",
    "#plt.ylim([10**(-10), 10**(-7)])\n",
    "plt.tight_layout()\n",
    "plt.legend(['Original', 'Interp Clean'])\n",
    "plt.show()"
   ]
  },
  {
   "cell_type": "markdown",
   "metadata": {},
   "source": [
    "# Run Zappy"
   ]
  },
  {
   "cell_type": "code",
   "execution_count": null,
   "metadata": {
    "ExecuteTime": {
     "end_time": "2020-02-20T04:03:45.152179Z",
     "start_time": "2020-02-20T04:02:44.278926Z"
    },
    "scrolled": false
   },
   "outputs": [],
   "source": [
    "signal_cleaned = zappy.elstim.artifact.ica_pulse_reconstruction(\n",
    "                            signal=sig.copy(),\n",
    "                            stim_seq=sseq.copy(),\n",
    "                            amp_range=(0,1),\n",
    "                            inter_train_len=Fs*8.0,\n",
    "                            padding=[0, 0],\n",
    "                            ic_stat_pct=[0, 100],\n",
    "                            signal_sham=sig_sham.copy(),\n",
    "                            n_components=None,\n",
    "                            plot=True)"
   ]
  },
  {
   "cell_type": "markdown",
   "metadata": {},
   "source": [
    "# Decimate Cleaned Signal"
   ]
  },
  {
   "cell_type": "code",
   "execution_count": null,
   "metadata": {
    "ExecuteTime": {
     "end_time": "2020-02-20T03:44:04.905905Z",
     "start_time": "2020-02-20T03:44:04.808194Z"
    }
   },
   "outputs": [],
   "source": [
    "import scipy.signal as sp_sig\n",
    "signal_cleaned2 = np.convolve(signal_cleaned[:,0], sp_sig.windows.hann(10)/10, mode='same').reshape(-1,1)"
   ]
  },
  {
   "cell_type": "code",
   "execution_count": null,
   "metadata": {
    "ExecuteTime": {
     "end_time": "2020-02-20T04:08:04.862872Z",
     "start_time": "2020-02-20T04:08:00.959387Z"
    }
   },
   "outputs": [],
   "source": [
    "plt.figure(figsize=(12,6))\n",
    "plt.plot(tstamp, sig[:, 0])\n",
    "plt.plot(tstamp, signal_cleaned[:, 0])\n",
    "#plt.xlim([110.210, 110.225])\n",
    "#plt.xlim([210.7, 211.2])\n",
    "#plt.xlim([400.7, 401.2])\n",
    "plt.xlim([400.88, 400.9])\n",
    "#plt.ylim([-250, 250])\n",
    "#plt.legend(['Original', 'Zappy'])\n",
    "plt.show()"
   ]
  },
  {
   "cell_type": "code",
   "execution_count": null,
   "metadata": {
    "ExecuteTime": {
     "end_time": "2020-04-01T05:13:40.316610Z",
     "start_time": "2020-04-01T05:13:39.095536Z"
    }
   },
   "outputs": [],
   "source": [
    "sel_ts = np.flatnonzero((tstamp >= 400) & (tstamp <= 460))\n",
    "\n",
    "plt.figure(figsize=(9,12))\n",
    "ax = plt.subplot(3,1,1)\n",
    "ax.plot(tstamp[sel_ts], sseq[sel_ts, 0])\n",
    "ax.set_xlim([400, 460])\n",
    "ax.set_title('Stim Sequence')\n",
    "\n",
    "ax = plt.subplot(3,1,2)\n",
    "ax.specgram(sig[sel_ts, 0], Fs=Fs, NFFT=2**15, noverlap=2**14)\n",
    "ax.set_ylim([0, 200])\n",
    "#ax.set_xlim([400.88-400, 400.9-400])\n",
    "ax.set_title('Original')\n",
    "\n",
    "ax = plt.subplot(3,1,3)\n",
    "ax.specgram(signal_cleaned[sel_ts, 0], Fs=Fs, NFFT=2**15, noverlap=2**14)\n",
    "ax.set_ylim([0, 200])\n",
    "#ax.set_xlim([400.88-400, 400.9-400])\n",
    "ax.set_title('Zappy')"
   ]
  },
  {
   "cell_type": "code",
   "execution_count": null,
   "metadata": {
    "ExecuteTime": {
     "end_time": "2020-02-20T04:15:02.024450Z",
     "start_time": "2020-02-20T04:15:00.730780Z"
    }
   },
   "outputs": [],
   "source": [
    "from scipy import signal\n",
    "\n",
    "f, Pxx_den = signal.welch(sig[sel_ts, 0], fs=Fs, nperseg=2**15)\n",
    "plt.semilogy(f, np.transpose(Pxx_den))\n",
    "f, Pxx_den = signal.welch(signal_cleaned[sel_ts,0], fs=Fs, nperseg=2**15)\n",
    "plt.semilogy(f, np.transpose(Pxx_den))\n",
    "plt.xlabel('frequency [Hz]')\n",
    "plt.ylabel('PSD [V**2/Hz]')\n",
    "plt.xlim([0, 200])\n",
    "plt.ylim([10**(-3), 10**(4)])\n",
    "plt.tight_layout()\n",
    "plt.legend(['Original', 'Zappy'])\n",
    "plt.show()\n",
    "\n",
    "f, Pxx_den = signal.welch(sig[sel_ts, 0], fs=Fs, nperseg=2**15)\n",
    "plt.semilogy(f, np.transpose(Pxx_den))\n",
    "f, Pxx_den = signal.welch(signal_cleaned[sel_ts,0], fs=Fs, nperseg=2**15)\n",
    "plt.semilogy(f, np.transpose(Pxx_den))\n",
    "plt.xlabel('frequency [Hz]')\n",
    "plt.ylabel('PSD [V**2/Hz]')\n",
    "plt.xlim([0, 100])\n",
    "#plt.ylim([10**(-10), 10**(-7)])\n",
    "plt.tight_layout()\n",
    "plt.legend(['Original', 'Zappy'])\n",
    "plt.show()"
   ]
  },
  {
   "cell_type": "code",
   "execution_count": null,
   "metadata": {},
   "outputs": [],
   "source": []
  }
 ],
 "metadata": {
  "hide_input": false,
  "kernelspec": {
   "display_name": "Hoth",
   "language": "python",
   "name": "hoth"
  },
  "language_info": {
   "codemirror_mode": {
    "name": "ipython",
    "version": 3
   },
   "file_extension": ".py",
   "mimetype": "text/x-python",
   "name": "python",
   "nbconvert_exporter": "python",
   "pygments_lexer": "ipython3",
   "version": "3.7.3"
  },
  "toc": {
   "base_numbering": 1,
   "nav_menu": {},
   "number_sections": true,
   "sideBar": true,
   "skip_h1_title": false,
   "title_cell": "Table of Contents",
   "title_sidebar": "Contents",
   "toc_cell": false,
   "toc_position": {},
   "toc_section_display": true,
   "toc_window_display": true
  },
  "varInspector": {
   "cols": {
    "lenName": 16,
    "lenType": 16,
    "lenVar": 40
   },
   "kernels_config": {
    "python": {
     "delete_cmd_postfix": "",
     "delete_cmd_prefix": "del ",
     "library": "var_list.py",
     "varRefreshCmd": "print(var_dic_list())"
    },
    "r": {
     "delete_cmd_postfix": ") ",
     "delete_cmd_prefix": "rm(",
     "library": "var_list.r",
     "varRefreshCmd": "cat(var_dic_list()) "
    }
   },
   "types_to_exclude": [
    "module",
    "function",
    "builtin_function_or_method",
    "instance",
    "_Feature"
   ],
   "window_display": false
  }
 },
 "nbformat": 4,
 "nbformat_minor": 2
}
